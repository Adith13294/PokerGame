{
  "nbformat": 4,
  "nbformat_minor": 0,
  "metadata": {
    "colab": {
      "name": "Poker Game.ipynb",
      "provenance": [],
      "collapsed_sections": []
    },
    "kernelspec": {
      "name": "python3",
      "display_name": "Python 3"
    }
  },
  "cells": [
    {
      "cell_type": "code",
      "metadata": {
        "id": "PkFSmvrQcwnm"
      },
      "source": [
        "from collections import Counter\n",
        "import numpy as np"
      ],
      "execution_count": 1,
      "outputs": []
    },
    {
      "cell_type": "code",
      "metadata": {
        "id": "unECaweWc41l"
      },
      "source": [
        "#This function converts higher order cards into numbers\n",
        "def func_higher_to_numbers(x):\n",
        "  if x == 'T':\n",
        "    return 10\n",
        "  if x == 'J':\n",
        "    return 11\n",
        "  if x == 'Q':\n",
        "    return 12\n",
        "  if x == 'K':\n",
        "    return 13\n",
        "  if x == 'A':\n",
        "    return 14\n",
        "  return int(x)\n",
        "   "
      ],
      "execution_count": 2,
      "outputs": []
    },
    {
      "cell_type": "code",
      "metadata": {
        "id": "BYHK8E_8eIeN"
      },
      "source": [
        "# This function assists in creating the output logic\n",
        "def func_poker(rank, numbered):\n",
        "    pack = [rank]\n",
        "    pack.extend(numbered)\n",
        "    return (pack)"
      ],
      "execution_count": 3,
      "outputs": []
    },
    {
      "cell_type": "code",
      "metadata": {
        "id": "2iP-suVCdBC-"
      },
      "source": [
        "# This function contains the logic for determining the ranks of the hand  \n",
        "\n",
        "def Poker(cards):\n",
        "  #List of variables to determine rank\n",
        "  #all_suits: Count of most common suit\n",
        "  #most_commons_sorted: sorted list of tuples of all numbers in the round\n",
        "  #most_common_1: Most common number\n",
        "  #numbered: ordered list of numbers based on their count and higher numbers\n",
        "  #consecutive: A set that checks for consecutive numbers\n",
        "\n",
        "  suits = [c[1] for c in cards]\n",
        "  #Convert higher order cards into numbers \n",
        "  numbers = [c[0] for c in cards]\n",
        "  numbers = list(map(lambda x: func_higher_to_numbers(x), numbers))\n",
        "\n",
        "  all_suits = Counter(suits).most_common(1)[0][1]\n",
        "  most_commons_sorted = sorted(Counter(numbers).most_common(), key=lambda x: (-x[1], -x[0]))\n",
        "  most_common_1 = most_commons_sorted[0][1]\n",
        "  numbered = [x for x,_ in most_commons_sorted]\n",
        "  consecutive = set(np.diff(np.sort(np.array(numbers))))\n",
        "\n",
        "  #Set of conditions to determine rank\n",
        "  if all_suits == 5:\n",
        "    # Rank 10\n",
        "    if min(numbers) == 10 and len(consecutive) == 1 and list(consecutive)[0] == 1:\n",
        "      return([10])\n",
        "    # Rank 9\n",
        "    if len(consecutive) == 1 and list(consecutive)[0]  == 1:\n",
        "      return func_poker(9, numbered)\n",
        "\n",
        "    # Rank 6\n",
        "    if most_common_1 < 3:\n",
        "      return func_poker(6, numbered)\n",
        "  \n",
        "  # Rank 8\n",
        "  if most_common_1 >= 4:\n",
        "    return func_poker(8, numbered)\n",
        "    \n",
        "  # Rank 7    \n",
        "  most_common_2 = most_commons_sorted[1][1]  \n",
        "  if most_common_1 == 3 and most_common_2 == 2:\n",
        "    return func_poker(7, numbered)\n",
        "  \n",
        "  # $ank 4\n",
        "  elif most_common_1 == 3:\n",
        "    return func_poker(4, numbered)\n",
        "  \n",
        "  # Rank 5\n",
        "  if len(consecutive) == 1 and list(consecutive)[0] == 1: \n",
        "    return func_poker(5, numbered)\n",
        "  \n",
        "  # Rank 3\n",
        "  if most_common_1 == 2 and most_common_2 == 2:\n",
        "    return func_poker(3, numbered)\n",
        "\n",
        "  # Rank 2\n",
        "  elif most_common_1 == 2:\n",
        "    return func_poker(2, numbered)\n",
        "  \n",
        "  # Rank 1\n",
        "  return func_poker(1, numbered)"
      ],
      "execution_count": 4,
      "outputs": []
    },
    {
      "cell_type": "code",
      "metadata": {
        "id": "tLBdM161dOxT"
      },
      "source": [
        "#This function is to take the inputs and call the poker function\n",
        "def poker_hands(file):\n",
        "  player_score_1 = 0\n",
        "  player_score_2 = 0\n",
        "  \n",
        "  #Reading a file\n",
        "  f = open(file)\n",
        "  line = f.readline()\n",
        "\n",
        "  while line:\n",
        "    #Deal the cards to 2 players and call Poker function\n",
        "    line = line.rstrip()\n",
        "    y = line.split(\" \")\n",
        "    player_1 = Poker(y[:5])\n",
        "    player_2 = Poker(y[5:])\n",
        "\n",
        "    #Compare the length of hands and then compare the cards \n",
        "    shortest_length = min(len(player_1), len(player_2))\n",
        "    \n",
        "    for i in range(shortest_length):\n",
        "      if player_1[i] > player_2[i]:\n",
        "        player_score_1+=1    \n",
        "        break\n",
        "\n",
        "      elif player_2[i] > player_1[i]:\n",
        "        player_score_2+=1\n",
        "        break\n",
        "\n",
        "    line = f.readline()\n",
        "  f.close()\n",
        "  print(\"Player 1:\", player_score_1,\"hands\")\n",
        "  print(\"Player 2:\", player_score_2,\"hands\")\n"
      ],
      "execution_count": 5,
      "outputs": []
    },
    {
      "cell_type": "code",
      "metadata": {
        "id": "ccMNq2rwdRQ0",
        "outputId": "70009e99-3092-452f-947e-79f3b2eadd26",
        "colab": {
          "base_uri": "https://localhost:8080/",
          "height": 50
        }
      },
      "source": [
        "poker_hands(\"poker-hands.txt\")"
      ],
      "execution_count": 6,
      "outputs": [
        {
          "output_type": "stream",
          "text": [
            "Player 1: 263 hands\n",
            "Player 2: 237 hands\n"
          ],
          "name": "stdout"
        }
      ]
    }
  ]
}